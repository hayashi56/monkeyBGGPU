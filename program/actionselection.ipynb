{
 "cells": [
  {
   "cell_type": "code",
   "execution_count": null,
   "metadata": {},
   "outputs": [
    {
     "ename": "",
     "evalue": "",
     "output_type": "error",
     "traceback": [
      "\u001b[1;31m'c:\\Users\\ryuji\\AppData\\Local\\Microsoft\\WindowsApps\\python3.10.exe' でセルを実行するには、 ipykernel パッケージが必要です。\n",
      "\u001b[1;31mRun the following command to install 'ipykernel' into the Python environment. \n",
      "\u001b[1;31mCommand: 'c:/Users/ryuji/AppData/Local/Microsoft/WindowsApps/python3.10.exe -m pip install ipykernel -U --user --force-reinstall'"
     ]
    }
   ],
   "source": [
    "\n",
    "import numpy as np\n",
    "import matplotlib.pyplot as plt\n",
    "import math\n",
    "\n",
    "##frequencydata_file1_MSN = 'MSNfiringrate_channel1.dat'\n",
    "##frequencydata_file1_FSI = 'FSIfiringrate_channel1.dat'\n",
    "##frequencydata_file1_STN = 'STNfiringrate_channel1.dat'\n",
    "##frequencydata_file1_GPe = 'GPefiringrate_channel1.dat'\n",
    "frequencydata_file1_GPi = 'GPifiringrate_chanel1.dat'\n",
    "frequencydata_file1_CSN = 'CSNfiringrate_chanel1.dat'\n",
    "frequencydata_file1_PTN = 'PTNfiringrate_chanel1.dat'\n",
    "##frequencydata_file1_CMPf = 'CMPffiringrate_channel1.dat'\n",
    "file_GPi_potential = 'GPi.dat'\n",
    "\n",
    "##frequencydata_file2_MSN = 'MSNfiringrate_channel2.dat'\n",
    "##frequencydata_file2_FSI = 'FSIfiringrate_channel2.dat'\n",
    "##frequencydata_file2_STN = 'STNfiringrate_channel2.dat'\n",
    "##frequencydata_file2_GPe = 'GPefiringrate_channel2.dat'\n",
    "frequencydata_file2_GPi = 'GPifiringrate_chanel2.dat'\n",
    "frequencydata_file2_CSN = 'CSNfiringrate_chanel2.dat'\n",
    "frequencydata_file2_PTN = 'PTNfiringrate_chanel2.dat'\n",
    "##frequencydata_file2_CMPf = 'CMPffiringrate_channel2.dat'\n",
    "\n",
    "##MSNfrequency1 = np.loadtxt(frequencydata_file1_MSN)\n",
    "##FSIfrequency1 = np.loadtxt(frequencydata_file1_FSI)\n",
    "##STNfrequency1 = np.loadtxt(frequencydata_file1_STN)\n",
    "##GPefrequency1 = np.loadtxt(frequencydata_file1_GPe)\n",
    "GPifrequency1 = np.loadtxt(frequencydata_file1_GPi)\n",
    "CSNfrequency1 = np.loadtxt(frequencydata_file1_CSN)\n",
    "PTNfrequency1 = np.loadtxt(frequencydata_file1_PTN)\n",
    "##CMPffrequency1 = np.loadtxt(frequencydata_file1_CMPf)\n",
    "GPi = np.loadtxt(file_GPi_potential)\n",
    "\n",
    "##MSNfrequency2 = np.loadtxt(frequencydata_file2_MSN)\n",
    "##FSIfrequency2 = np.loadtxt(frequencydata_file2_FSI)\n",
    "##STNfrequency2 = np.loadtxt(frequencydata_file2_STN)\n",
    "##GPefrequency2 = np.loadtxt(frequencydata_file2_GPe)\n",
    "GPifrequency2 = np.loadtxt(frequencydata_file2_GPi)\n",
    "CSNfrequency2 = np.loadtxt(frequencydata_file2_CSN)\n",
    "PTNfrequency2 = np.loadtxt(frequencydata_file2_PTN)\n",
    "##CMPffrequency2 = np.loadtxt(frequencydata_file2_CMPf)\n",
    "\n",
    "\n",
    " "
   ]
  },
  {
   "cell_type": "code",
   "execution_count": null,
   "metadata": {},
   "outputs": [
    {
     "ename": "",
     "evalue": "",
     "output_type": "error",
     "traceback": [
      "\u001b[1;31m'c:\\Users\\ryuji\\AppData\\Local\\Microsoft\\WindowsApps\\python3.10.exe' でセルを実行するには、 ipykernel パッケージが必要です。\n",
      "\u001b[1;31mRun the following command to install 'ipykernel' into the Python environment. \n",
      "\u001b[1;31mCommand: 'c:/Users/ryuji/AppData/Local/Microsoft/WindowsApps/python3.10.exe -m pip install ipykernel -U --user --force-reinstall'"
     ]
    }
   ],
   "source": [
    "e1 = 1 - GPifrequency1 / 71.29464\n",
    "e2 = 1 - GPifrequency2 / 71.29464\n",
    "e1_1, e2_1 = e1.copy(), e2.copy()\n",
    "e1_1[ e1_1 < 0 ] = 0\n",
    "e2_1[ e2_1 < 0 ] = 0\n",
    "e = e2_1 - e1_1\n",
    "e_3 = np.maximum( e2_1, e1_1 )\n",
    "e_4 = e2_1 + e1_1\n",
    "e_1 = -1 * ( -0.1 > e ) + 1 * ( 0.1 < e )\n",
    "d = ( e_4 - e_3 ) / e_4"
   ]
  },
  {
   "attachments": {},
   "cell_type": "markdown",
   "metadata": {},
   "source": [
    "# 行動選択(縦軸:神経細胞集団1への入力の強さ、横軸:神経細胞集団2への入力の強さ)"
   ]
  },
  {
   "cell_type": "code",
   "execution_count": null,
   "metadata": {},
   "outputs": [
    {
     "ename": "",
     "evalue": "",
     "output_type": "error",
     "traceback": [
      "\u001b[1;31m'c:\\Users\\ryuji\\AppData\\Local\\Microsoft\\WindowsApps\\python3.10.exe' でセルを実行するには、 ipykernel パッケージが必要です。\n",
      "\u001b[1;31mRun the following command to install 'ipykernel' into the Python environment. \n",
      "\u001b[1;31mCommand: 'c:/Users/ryuji/AppData/Local/Microsoft/WindowsApps/python3.10.exe -m pip install ipykernel -U --user --force-reinstall'"
     ]
    }
   ],
   "source": [
    "b = e_1.reshape( [ 20, 20 ] )\n",
    "tick = range ( 0, 20, 1 )\n",
    "\n",
    "fig = plt.figure(figsize=(20,20))\n",
    "ax = fig.add_subplot(2, 2, 1)\n",
    "ax.set_xlabel(\"chanel1 firing rate\")\n",
    "ax.set_ylabel(\"chanel2 firing rate\")\n",
    "ax.set_xticks ( tick )\n",
    "ax.set_yticks ( tick )\n",
    "map = ax.pcolor ( b )\n",
    "fig.colorbar ( map, ax = ax )\n",
    "plt.show()"
   ]
  }
 ],
 "metadata": {
  "kernelspec": {
   "display_name": "Python 3",
   "language": "python",
   "name": "python3"
  },
  "language_info": {
   "name": "python",
   "version": "3.10.10"
  },
  "orig_nbformat": 4,
  "vscode": {
   "interpreter": {
    "hash": "9b9efab512c6f14934c9483388debe056c35b98a35e1e78582c84c59d34a6a9b"
   }
  }
 },
 "nbformat": 4,
 "nbformat_minor": 2
}
