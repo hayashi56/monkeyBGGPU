{
 "cells": [
  {
   "cell_type": "code",
   "execution_count": 1,
   "metadata": {},
   "outputs": [],
   "source": [
    "import numpy as np\n",
    "import matplotlib.pyplot as plt"
   ]
  },
  {
   "cell_type": "code",
   "execution_count": 2,
   "metadata": {},
   "outputs": [
    {
     "ename": "OSError",
     "evalue": "PSNspike_chanel119chanel20.dat not found.",
     "output_type": "error",
     "traceback": [
      "\u001b[0;31m---------------------------------------------------------------------------\u001b[0m",
      "\u001b[0;31mOSError\u001b[0m                                   Traceback (most recent call last)",
      "Input \u001b[0;32mIn [2]\u001b[0m, in \u001b[0;36m<cell line: 23>\u001b[0;34m()\u001b[0m\n\u001b[1;32m     21\u001b[0m PTIspike1 \u001b[38;5;241m=\u001b[39m np\u001b[38;5;241m.\u001b[39mloadtxt(spikedata_file1_PTI)\n\u001b[1;32m     22\u001b[0m PTNspike1 \u001b[38;5;241m=\u001b[39m np\u001b[38;5;241m.\u001b[39mloadtxt(spikedata_file1_PTN)\n\u001b[0;32m---> 23\u001b[0m PSNspike1 \u001b[38;5;241m=\u001b[39m \u001b[43mnp\u001b[49m\u001b[38;5;241;43m.\u001b[39;49m\u001b[43mloadtxt\u001b[49m\u001b[43m(\u001b[49m\u001b[43mspikedata_file1_PSN\u001b[49m\u001b[43m)\u001b[49m\n\u001b[1;32m     24\u001b[0m Thspike1 \u001b[38;5;241m=\u001b[39m np\u001b[38;5;241m.\u001b[39mloadtxt(spikedata_file1_Th)\n\u001b[1;32m     25\u001b[0m CMPfspike1 \u001b[38;5;241m=\u001b[39m np\u001b[38;5;241m.\u001b[39mloadtxt(spikedata_file1_CMPf)\n",
      "File \u001b[0;32m/usr/local/anaconda3/lib/python3.9/site-packages/numpy/lib/npyio.py:1067\u001b[0m, in \u001b[0;36mloadtxt\u001b[0;34m(fname, dtype, comments, delimiter, converters, skiprows, usecols, unpack, ndmin, encoding, max_rows, like)\u001b[0m\n\u001b[1;32m   1065\u001b[0m     fname \u001b[38;5;241m=\u001b[39m os_fspath(fname)\n\u001b[1;32m   1066\u001b[0m \u001b[38;5;28;01mif\u001b[39;00m _is_string_like(fname):\n\u001b[0;32m-> 1067\u001b[0m     fh \u001b[38;5;241m=\u001b[39m \u001b[43mnp\u001b[49m\u001b[38;5;241;43m.\u001b[39;49m\u001b[43mlib\u001b[49m\u001b[38;5;241;43m.\u001b[39;49m\u001b[43m_datasource\u001b[49m\u001b[38;5;241;43m.\u001b[39;49m\u001b[43mopen\u001b[49m\u001b[43m(\u001b[49m\u001b[43mfname\u001b[49m\u001b[43m,\u001b[49m\u001b[43m \u001b[49m\u001b[38;5;124;43m'\u001b[39;49m\u001b[38;5;124;43mrt\u001b[39;49m\u001b[38;5;124;43m'\u001b[39;49m\u001b[43m,\u001b[49m\u001b[43m \u001b[49m\u001b[43mencoding\u001b[49m\u001b[38;5;241;43m=\u001b[39;49m\u001b[43mencoding\u001b[49m\u001b[43m)\u001b[49m\n\u001b[1;32m   1068\u001b[0m     fencoding \u001b[38;5;241m=\u001b[39m \u001b[38;5;28mgetattr\u001b[39m(fh, \u001b[38;5;124m'\u001b[39m\u001b[38;5;124mencoding\u001b[39m\u001b[38;5;124m'\u001b[39m, \u001b[38;5;124m'\u001b[39m\u001b[38;5;124mlatin1\u001b[39m\u001b[38;5;124m'\u001b[39m)\n\u001b[1;32m   1069\u001b[0m     fh \u001b[38;5;241m=\u001b[39m \u001b[38;5;28miter\u001b[39m(fh)\n",
      "File \u001b[0;32m/usr/local/anaconda3/lib/python3.9/site-packages/numpy/lib/_datasource.py:193\u001b[0m, in \u001b[0;36mopen\u001b[0;34m(path, mode, destpath, encoding, newline)\u001b[0m\n\u001b[1;32m    156\u001b[0m \u001b[38;5;124;03m\"\"\"\u001b[39;00m\n\u001b[1;32m    157\u001b[0m \u001b[38;5;124;03mOpen `path` with `mode` and return the file object.\u001b[39;00m\n\u001b[1;32m    158\u001b[0m \n\u001b[0;32m   (...)\u001b[0m\n\u001b[1;32m    189\u001b[0m \n\u001b[1;32m    190\u001b[0m \u001b[38;5;124;03m\"\"\"\u001b[39;00m\n\u001b[1;32m    192\u001b[0m ds \u001b[38;5;241m=\u001b[39m DataSource(destpath)\n\u001b[0;32m--> 193\u001b[0m \u001b[38;5;28;01mreturn\u001b[39;00m \u001b[43mds\u001b[49m\u001b[38;5;241;43m.\u001b[39;49m\u001b[43mopen\u001b[49m\u001b[43m(\u001b[49m\u001b[43mpath\u001b[49m\u001b[43m,\u001b[49m\u001b[43m \u001b[49m\u001b[43mmode\u001b[49m\u001b[43m,\u001b[49m\u001b[43m \u001b[49m\u001b[43mencoding\u001b[49m\u001b[38;5;241;43m=\u001b[39;49m\u001b[43mencoding\u001b[49m\u001b[43m,\u001b[49m\u001b[43m \u001b[49m\u001b[43mnewline\u001b[49m\u001b[38;5;241;43m=\u001b[39;49m\u001b[43mnewline\u001b[49m\u001b[43m)\u001b[49m\n",
      "File \u001b[0;32m/usr/local/anaconda3/lib/python3.9/site-packages/numpy/lib/_datasource.py:533\u001b[0m, in \u001b[0;36mDataSource.open\u001b[0;34m(self, path, mode, encoding, newline)\u001b[0m\n\u001b[1;32m    530\u001b[0m     \u001b[38;5;28;01mreturn\u001b[39;00m _file_openers[ext](found, mode\u001b[38;5;241m=\u001b[39mmode,\n\u001b[1;32m    531\u001b[0m                               encoding\u001b[38;5;241m=\u001b[39mencoding, newline\u001b[38;5;241m=\u001b[39mnewline)\n\u001b[1;32m    532\u001b[0m \u001b[38;5;28;01melse\u001b[39;00m:\n\u001b[0;32m--> 533\u001b[0m     \u001b[38;5;28;01mraise\u001b[39;00m \u001b[38;5;167;01mIOError\u001b[39;00m(\u001b[38;5;124m\"\u001b[39m\u001b[38;5;132;01m%s\u001b[39;00m\u001b[38;5;124m not found.\u001b[39m\u001b[38;5;124m\"\u001b[39m \u001b[38;5;241m%\u001b[39m path)\n",
      "\u001b[0;31mOSError\u001b[0m: PSNspike_chanel119chanel20.dat not found."
     ]
    }
   ],
   "source": [
    "spikedata_file1_MSN_D1 = 'MSN_D1spike_chanel119chanel20.dat'\n",
    "spikedata_file1_MSN_D2 = 'MSN_D2spike_chanel119chanel20.dat'\n",
    "spikedata_file1_FSI    = 'FSIspike_chanel119chanel20.dat'\n",
    "spikedata_file1_STN    = 'STNspike_chanel119chanel20.dat'\n",
    "spikedata_file1_GPe    = 'GPespike_chanel119chanel20.dat'\n",
    "spikedata_file1_GPi    = 'GPispike_chanel119chanel20.dat'\n",
    "spikedata_file1_SNc    = 'SNcspike_chanel119chanel20.dat'\n",
    "spikedata_file1_PTI    = 'PTIspike_chanel119chanel20.dat'\n",
    "spikedata_file1_PTN    = 'PTNspike_chanel119chanel20.dat'\n",
    "spikedata_file1_PSN    = 'PSAspike_chanel119chanel20.dat'\n",
    "spikedata_file1_Th     = 'Thspike_chanel119chanel20.dat'\n",
    "spikedata_file1_CMPf   = 'CMPfspike_chanel119chanel20.dat'\n",
    "\n",
    "MSN_D1spike1 = np.loadtxt(spikedata_file1_MSN_D1)\n",
    "MSN_D2spike1 = np.loadtxt(spikedata_file1_MSN_D2)\n",
    "FSIspike1 = np.loadtxt(spikedata_file1_FSI)\n",
    "STNspike1 = np.loadtxt(spikedata_file1_STN)\n",
    "GPespike1 = np.loadtxt(spikedata_file1_GPe)\n",
    "GPispike1 = np.loadtxt(spikedata_file1_GPi)\n",
    "SNcspike1 = np.loadtxt(spikedata_file1_SNc)\n",
    "PTIspike1 = np.loadtxt(spikedata_file1_PTI)\n",
    "PTNspike1 = np.loadtxt(spikedata_file1_PTN)\n",
    "PSNspike1 = np.loadtxt(spikedata_file1_PSN)\n",
    "Thspike1 = np.loadtxt(spikedata_file1_Th)\n",
    "CMPfspike1 = np.loadtxt(spikedata_file1_CMPf)"
   ]
  },
  {
   "cell_type": "markdown",
   "metadata": {},
   "source": [
    "# MSND1ラスタープロット"
   ]
  },
  {
   "cell_type": "code",
   "execution_count": null,
   "metadata": {},
   "outputs": [],
   "source": [
    "plt.figure(figsize=(20,7))\n",
    "plt.scatter(x=MSN_D1spike1[:,0],y=MSN_D1spike1[:,1],s=1)\n",
    "plt.xlim([-50,1050])\n",
    "plt.ylim([-100,20260])"
   ]
  },
  {
   "cell_type": "markdown",
   "metadata": {},
   "source": [
    "# MSND2ラスタープロット"
   ]
  },
  {
   "cell_type": "code",
   "execution_count": null,
   "metadata": {},
   "outputs": [],
   "source": [
    "plt.figure(figsize=(20,7))\n",
    "plt.scatter(x=MSN_D2spike1[:,0],y=MSN_D2spike1[:,1],s=1)\n",
    "plt.xlim([-50,1050])\n",
    "plt.ylim([-100,20260])"
   ]
  },
  {
   "cell_type": "markdown",
   "metadata": {},
   "source": [
    "# FSIラスタープロット"
   ]
  },
  {
   "cell_type": "code",
   "execution_count": null,
   "metadata": {},
   "outputs": [],
   "source": [
    "plt.figure(figsize=(20,7))\n",
    "plt.scatter(x=FSIspike1[:,0],y=FSIspike1[:,1],s=1)\n",
    "plt.xlim([-50,1050])\n",
    "plt.ylim([-30,600])"
   ]
  },
  {
   "cell_type": "markdown",
   "metadata": {},
   "source": [
    "# STNラスタープロット"
   ]
  },
  {
   "cell_type": "code",
   "execution_count": null,
   "metadata": {},
   "outputs": [],
   "source": [
    "plt.figure(figsize=(20,7))\n",
    "plt.scatter(x=STNspike1[:,0],y=STNspike1[:,1],s=1)\n",
    "plt.xlim([-50,1050])"
   ]
  },
  {
   "cell_type": "markdown",
   "metadata": {},
   "source": [
    "# GPeラスタープロット"
   ]
  },
  {
   "cell_type": "code",
   "execution_count": null,
   "metadata": {},
   "outputs": [],
   "source": [
    "plt.figure(figsize=(20,7))\n",
    "plt.scatter(x=GPespike1[:,0],y=GPespike1[:,1],s=1)\n",
    "plt.xlim([-50,1050])"
   ]
  },
  {
   "cell_type": "markdown",
   "metadata": {},
   "source": [
    "# GPiラスタープロット"
   ]
  },
  {
   "cell_type": "code",
   "execution_count": null,
   "metadata": {},
   "outputs": [],
   "source": [
    "plt.figure(figsize=(20,7))\n",
    "plt.scatter(x=GPispike1[:,0],y=GPispike1[:,1],s=1)\n",
    "plt.xlim([-50,1050])\n",
    "plt.ylim([150,250])"
   ]
  },
  {
   "cell_type": "markdown",
   "metadata": {},
   "source": [
    "# SNcラスタープロット"
   ]
  },
  {
   "cell_type": "code",
   "execution_count": null,
   "metadata": {},
   "outputs": [],
   "source": [
    "plt.figure(figsize=(20,7))\n",
    "plt.scatter(x=SNcspike1[:,0],y=SNcspike1[:,1],s=1)\n",
    "plt.xlim([-50,1050])"
   ]
  },
  {
   "cell_type": "markdown",
   "metadata": {},
   "source": [
    "# PTIラスタープロット"
   ]
  },
  {
   "cell_type": "code",
   "execution_count": null,
   "metadata": {},
   "outputs": [],
   "source": [
    "plt.figure(figsize=(20,7))\n",
    "plt.scatter(x=PTIspike1[:,0],y=PTIspike1[:,1],s=1)\n",
    "plt.xlim([-50,1050])"
   ]
  },
  {
   "cell_type": "markdown",
   "metadata": {},
   "source": [
    "# PTNラスタープロット"
   ]
  },
  {
   "cell_type": "code",
   "execution_count": null,
   "metadata": {},
   "outputs": [],
   "source": [
    "plt.figure(figsize=(20,7))\n",
    "plt.scatter(x=PTNspike1[:,0],y=PTNspike1[:,1],s=1)\n",
    "plt.xlim([-50,1050])\n",
    "plt.ylim([-100,2100])"
   ]
  },
  {
   "cell_type": "markdown",
   "metadata": {},
   "source": [
    "# PSNラスタープロット"
   ]
  },
  {
   "cell_type": "code",
   "execution_count": null,
   "metadata": {},
   "outputs": [],
   "source": [
    "plt.figure(figsize=(20,7))\n",
    "plt.scatter(x=PSNspike1[:,0],y=PSNspike1[:,1],s=1)\n",
    "plt.xlim([-50,1050])"
   ]
  },
  {
   "cell_type": "markdown",
   "metadata": {},
   "source": [
    "# Thラスタープロット"
   ]
  },
  {
   "cell_type": "code",
   "execution_count": null,
   "metadata": {},
   "outputs": [],
   "source": [
    "plt.figure(figsize=(20,7))\n",
    "plt.scatter(x=Thspike1[:,0],y=Thspike1[:,1],s=1)\n",
    "plt.xlim([-50,1050])\n",
    "plt.ylim([-100,2100])"
   ]
  },
  {
   "cell_type": "markdown",
   "metadata": {},
   "source": [
    "# CMPfラスタープロット"
   ]
  },
  {
   "cell_type": "code",
   "execution_count": null,
   "metadata": {},
   "outputs": [],
   "source": [
    "plt.figure(figsize=(20,7))\n",
    "plt.scatter(x=CMPfspike1[:,0],y=CMPfspike1[:,1],s=1)\n",
    "plt.xlim([-50,1050])"
   ]
  },
  {
   "cell_type": "code",
   "execution_count": null,
   "metadata": {},
   "outputs": [],
   "source": [
    "fig = plt.figure(figsize=(20,20))\n",
    "ax1 = fig.add_subplot(2, 2, 1)\n",
    "ax1.set_title('PTI',fontsize = 18)\n",
    "ax1.set_xlabel(\"time\",fontsize = 18)\n",
    "ax1.set_ylabel(\"Neuron Number\",fontsize = 18)\n",
    "ax1.scatter(x=PTIspike1[:,0],y=PTIspike1[:,1],s=1)\n",
    "ax2 = fig.add_subplot(2, 2, 2)\n",
    "ax2.set_title('PTN',fontsize = 18)\n",
    "ax2.set_xlabel(\"time\",fontsize = 18)\n",
    "ax2.set_ylabel(\"Neuron Number\",fontsize = 18)\n",
    "ax2.scatter(x=PTNspike1[:,0],y=PTNspike1[:,1],s=1)\n",
    "fig.show()"
   ]
  },
  {
   "cell_type": "code",
   "execution_count": null,
   "metadata": {},
   "outputs": [],
   "source": []
  }
 ],
 "metadata": {
  "kernelspec": {
   "display_name": "Python 3 (ipykernel)",
   "language": "python",
   "name": "python3"
  },
  "language_info": {
   "codemirror_mode": {
    "name": "ipython",
    "version": 3
   },
   "file_extension": ".py",
   "mimetype": "text/x-python",
   "name": "python",
   "nbconvert_exporter": "python",
   "pygments_lexer": "ipython3",
   "version": "3.9.12"
  },
  "vscode": {
   "interpreter": {
    "hash": "916dbcbb3f70747c44a77c7bcd40155683ae19c65e1c03b4aa3499c5328201f1"
   }
  }
 },
 "nbformat": 4,
 "nbformat_minor": 4
}
